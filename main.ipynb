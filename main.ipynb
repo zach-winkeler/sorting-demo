{
 "cells": [
  {
   "cell_type": "code",
   "execution_count": 2,
   "source": [
    "def insertion_sort(L):\r\n",
    "    if len(L) <= 1:\r\n",
    "        return L\r\n",
    "    output = [L[0]]\r\n",
    "    for i in range(1, len(L)):\r\n",
    "        j = 0\r\n",
    "        while True:\r\n",
    "            if j < len(output) and L[i] > output[j]:\r\n",
    "                j += 1\r\n",
    "            else:\r\n",
    "                output = output[:j] + [L[i]] + output[j:]\r\n",
    "                break\r\n",
    "    return output"
   ],
   "outputs": [],
   "metadata": {}
  },
  {
   "cell_type": "code",
   "execution_count": 3,
   "source": [
    "def bubble_sort(L):\r\n",
    "    while True:\r\n",
    "        swapped = False\r\n",
    "        for i in range(0, len(L)-1):\r\n",
    "            if L[i] > L[i+1]:\r\n",
    "                L[i], L[i+1] = L[i+1], L[i]\r\n",
    "                swapped = True\r\n",
    "        if swapped == False:\r\n",
    "            return L"
   ],
   "outputs": [],
   "metadata": {
    "collapsed": false,
    "pycharm": {
     "name": "#%%\n"
    }
   }
  },
  {
   "cell_type": "code",
   "execution_count": 4,
   "source": [
    "def merge_sort(L):\r\n",
    "    if len(L) <= 1:\r\n",
    "        return L\r\n",
    "    split = len(L) // 2\r\n",
    "    return merge(merge_sort(L[:split]), merge_sort(L[split:]))\r\n",
    "\r\n",
    "def merge(L1, L2):\r\n",
    "    output = []\r\n",
    "    i1 = 0\r\n",
    "    i2 = 0\r\n",
    "    while i1 < len(L1) and i2 < len(L2):\r\n",
    "        if L1[i1] <= L2[i2]:\r\n",
    "            output.append(L1[i1])\r\n",
    "            i1 += 1\r\n",
    "        else:\r\n",
    "            output.append(L2[i2])\r\n",
    "            i2 += 1\r\n",
    "    return output + L1[i1:] + L2[i2:]"
   ],
   "outputs": [],
   "metadata": {
    "collapsed": false,
    "pycharm": {
     "name": "#%%\n"
    }
   }
  },
  {
   "cell_type": "code",
   "execution_count": 5,
   "source": [
    "def quicksort(L):\r\n",
    "    if len(L) <= 1:\r\n",
    "        return L\r\n",
    "    pivot = L[0]\r\n",
    "    lower = []\r\n",
    "    upper = []\r\n",
    "    for element in L[1:]:\r\n",
    "        if element < pivot:\r\n",
    "            lower.append(element)\r\n",
    "        else:\r\n",
    "            upper.append(element)\r\n",
    "    return quicksort(lower) + [pivot] + quicksort(upper)"
   ],
   "outputs": [],
   "metadata": {}
  },
  {
   "cell_type": "code",
   "execution_count": 6,
   "source": [
    "# run this to time each sorting function on the list\r\n",
    "\r\n",
    "import time\r\n",
    "import copy\r\n",
    "import random\r\n",
    "\r\n",
    "def random_list(n):\r\n",
    "    return [random.randint(0,10000) for _ in range(n)]\r\n",
    "\r\n",
    "def measure_time(f, arg):\r\n",
    "    arg = copy.copy(arg)\r\n",
    "    start = time.time()\r\n",
    "    arg = f(arg)\r\n",
    "    end = time.time()\r\n",
    "    assert arg == sorted(arg)\r\n",
    "    return end - start\r\n",
    "\r\n",
    "# add new sorting functions here to test them\r\n",
    "functions = {insertion_sort: 'insertion_sort', bubble_sort: 'bubble_sort', merge_sort: 'merge_sort', quicksort: 'quicksort', sorted: 'python'}\r\n",
    "\r\n",
    "# change the lengths of the random lists here\r\n",
    "# i don't recommend testing bubble sort or other slow sorts on lists over 10000 elements long!\r\n",
    "arguments = {i: random_list(i) for i in [1, 10, 100, 1000, 5000, 10000]}\r\n",
    "times = {}\r\n",
    "for f in functions:\r\n",
    "    times[f] = {}\r\n",
    "    for i in arguments.keys():\r\n",
    "        times[f][i] = measure_time(f, arguments[i])"
   ],
   "outputs": [],
   "metadata": {
    "collapsed": false,
    "pycharm": {
     "name": "#%%\n"
    },
    "tags": []
   }
  },
  {
   "cell_type": "code",
   "execution_count": 8,
   "source": [
    "# run this to plot the results from the previous block\r\n",
    "\r\n",
    "import matplotlib.pyplot as plt\r\n",
    "\r\n",
    "fig, ax = plt.subplots()\r\n",
    "for f, name in functions.items():\r\n",
    "    ax.plot(list(arguments.keys()), [times[f][i] for i in arguments.keys()], label=name)\r\n",
    "ax.set_xlabel('size of list')\r\n",
    "ax.set_ylabel('time taken to sort')\r\n",
    "ax.legend()\r\n",
    "plt.show()"
   ],
   "outputs": [
    {
     "output_type": "display_data",
     "data": {
      "text/plain": [
       "<Figure size 432x288 with 1 Axes>"
      ],
      "image/png": "[encoded data removed]"
     },
     "metadata": {
      "needs_background": "light"
     }
    }
   ],
   "metadata": {}
  },
  {
   "cell_type": "code",
   "execution_count": null,
   "source": [],
   "outputs": [],
   "metadata": {}
  }
 ],
 "metadata": {
  "kernelspec": {
   "name": "python3",
   "display_name": "Python 3.9.0 64-bit"
  },
  "interpreter": {
   "hash": "63fd5069d213b44bf678585dea6b12cceca9941eaf7f819626cde1f2670de90d"
  },
  "language_info": {
   "name": "python",
   "version": "3.9.0",
   "mimetype": "text/x-python",
   "codemirror_mode": {
    "name": "ipython",
    "version": 3
   },
   "pygments_lexer": "ipython3",
   "nbconvert_exporter": "python",
   "file_extension": ".py"
  }
 },
 "nbformat": 4,
 "nbformat_minor": 2
}